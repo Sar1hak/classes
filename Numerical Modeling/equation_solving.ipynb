{
  "nbformat": 4,
  "nbformat_minor": 0,
  "metadata": {
    "colab": {
      "name": "Equationcalcuation.ipynb",
      "provenance": [],
      "collapsed_sections": []
    },
    "kernelspec": {
      "name": "python3",
      "display_name": "Python 3"
    }
  },
  "cells": [
    {
      "cell_type": "markdown",
      "metadata": {
        "id": "Vrh2XA0Eac4A",
        "colab_type": "text"
      },
      "source": [
        "# author @ Sarthak Chauhan\n",
        "\n",
        "#A X = B\n",
        "#[10, -1, 2, 0 ][a] [6]\n",
        "#[-1, 11, -1, 3][b]=[25]\n",
        "#[2, -1, 10, -1][c] [-11]\n",
        "#[0, 3, -1, 8[d] [15]"
      ]
    },
    {
      "cell_type": "markdown",
      "metadata": {
        "id": "0aNU8OpiW1cS",
        "colab_type": "text"
      },
      "source": [
        "Gaussian Elimination "
      ]
    },
    {
      "cell_type": "code",
      "metadata": {
        "id": "H1WLzgp4WnO6",
        "colab_type": "code",
        "colab": {}
      },
      "source": [
        "\n",
        "def gauss(A):\n",
        "    n = len(A)\n",
        "\n",
        "    for i in range(0, n):\n",
        "        # Search for maximum in this column\n",
        "        maxEl = abs(A[i][i])\n",
        "        maxRow = i\n",
        "        for k in range(i + 1, n):\n",
        "            if abs(A[k][i]) > maxEl:\n",
        "                maxEl = abs(A[k][i])\n",
        "                maxRow = k\n",
        "\n",
        "        # Swap maximum row with current row (column by column)\n",
        "        for k in range(i, n + 1):\n",
        "            tmp = A[maxRow][k]\n",
        "            A[maxRow][k] = A[i][k]\n",
        "            A[i][k] = tmp\n",
        "\n",
        "        # Make all rows below this one 0 in current column\n",
        "        for k in range(i + 1, n):\n",
        "            c = -A[k][i] / A[i][i]\n",
        "            for j in range(i, n + 1):\n",
        "                if i == j:\n",
        "                    A[k][j] = 0\n",
        "                else:\n",
        "                    A[k][j] += c * A[i][j]\n",
        "\n",
        "    # Solve equation Ax=b for an upper triangular matrix A\n",
        "    x = [0 for i in range(n)]\n",
        "    for i in range(n - 1, -1, -1):\n",
        "        x[i] = A[i][n] / A[i][i]\n",
        "        for k in range(i - 1, -1, -1):\n",
        "            A[k][n] -= A[k][i] * x[i]\n",
        "    return x\n",
        "\n"
      ],
      "execution_count": 25,
      "outputs": []
    },
    {
      "cell_type": "code",
      "metadata": {
        "id": "uF5Gjr-Hj4b-",
        "colab_type": "code",
        "colab": {}
      },
      "source": [
        "#Equally distributed maxtrix Display\n",
        "def pprint(A):\n",
        "    n = len(A)\n",
        "    for i in range(0, n):\n",
        "        line = \"\"\n",
        "        for j in range(0, n + 1):\n",
        "            line += str(A[i][j]) + \"\\t\"\n",
        "            if j == n - 1:\n",
        "                line += \"| \"\n",
        "        print(line)\n",
        "    print(\"\")\n"
      ],
      "execution_count": 26,
      "outputs": []
    },
    {
      "cell_type": "code",
      "metadata": {
        "id": "Eou9abqfj7-V",
        "colab_type": "code",
        "colab": {
          "base_uri": "https://localhost:8080/",
          "height": 181
        },
        "outputId": "57afc201-260a-4648-b08e-df9a8cf86592"
      },
      "source": [
        "\n",
        "if __name__ == \"__main__\":\n",
        "    A=[[10, -1, 2, 0, 6],[-1, 11, -1, 3, 25],[2, -1, 10, -1, -11],[0, 3, -1, 8, 15]]\n",
        "    \n",
        "    print(\"Augumented Matrix\")\n",
        "    pprint(A)\n",
        "    # Calculate solution\n",
        "    x = gauss(A)\n",
        "\n",
        "    line = \"Result:\\t\"\n",
        "    for i in range(0, len(A)):\n",
        "        line += str(x[i]) + \"\\t\"\n",
        "    print(line)\n",
        "    \n",
        "    # Comparison 1\n",
        "    a=np.asarray([[10, -1, 2, 0],[-1, 11, -1, 3],[2, -1, 10, -1],[0, 3, -1, 8]])\n",
        "    b = np.asarray([6,25,-11,15]) \n",
        "    \n",
        "    t=np.linalg.inv(a)\n",
        "    x=b@t\n",
        "    print(\"Comparison 1: Inv(A)*B\")\n",
        "    print(x)"
      ],
      "execution_count": 27,
      "outputs": [
        {
          "output_type": "stream",
          "text": [
            "Augumented Matrix\n",
            "10\t-1\t2\t0\t| 6\t\n",
            "-1\t11\t-1\t3\t| 25\t\n",
            "2\t-1\t10\t-1\t| -11\t\n",
            "0\t3\t-1\t8\t| 15\t\n",
            "\n",
            "Result:\t1.0\t2.0\t-1.0\t0.9999999999999999\t\n",
            "Comparison 1: Inv(A)*B\n",
            "[ 1.  2. -1.  1.]\n"
          ],
          "name": "stdout"
        }
      ]
    },
    {
      "cell_type": "markdown",
      "metadata": {
        "id": "QN9cF_vzZjT1",
        "colab_type": "text"
      },
      "source": [
        "Jacobian Elimination"
      ]
    },
    {
      "cell_type": "code",
      "metadata": {
        "id": "lt0ypvtBpVsJ",
        "colab_type": "code",
        "colab": {}
      },
      "source": [
        "import numpy as np"
      ],
      "execution_count": null,
      "outputs": []
    },
    {
      "cell_type": "code",
      "metadata": {
        "id": "CU2WYAi-ZjsM",
        "colab_type": "code",
        "colab": {}
      },
      "source": [
        "#Jacobian Elimination function\n",
        "def GaussJacobi(A, b, n):\n",
        "    # create a 1d matrix with n zeores\n",
        "    x=np.zeros(len(A[0]))\n",
        "\n",
        "    #getting the diagonal elements\n",
        "    d=np.diag(A)\n",
        "    # substract A from w\n",
        "    # w a two-dimensional array with the flattened input as a diagonal d\n",
        "    r=A-np.diagflat(d)\n",
        "\n",
        "    # Iterating to get the new values of x\n",
        "    # started with [0,0,0,0]\n",
        "    for i in range(0,n):\n",
        "      x=(b- np.dot(r,x))/d\n",
        "      print(\"Loop\" +str(i+1))\n",
        "      print(x)\n",
        "    return x\n"
      ],
      "execution_count": 46,
      "outputs": []
    },
    {
      "cell_type": "code",
      "metadata": {
        "id": "DWPxSkVNpozT",
        "colab_type": "code",
        "colab": {
          "base_uri": "https://localhost:8080/",
          "height": 399
        },
        "outputId": "60148c32-0640-41ed-8683-44664e11c038"
      },
      "source": [
        "\n",
        "a=np.asarray([[10, -1, 2, 0],[-1, 11, -1, 3],[2, -1, 10, -1],[0, 3, -1, 8]])\n",
        "b = np.asarray([6,25,-11,15])\n",
        "\n",
        "t=(GaussJacobi(a, b, 10))\n",
        "print(\"Results:\" +str(t))"
      ],
      "execution_count": 47,
      "outputs": [
        {
          "output_type": "stream",
          "text": [
            "Loop1\n",
            "[ 0.6         2.27272727 -1.1         1.875     ]\n",
            "Loop2\n",
            "[ 1.04727273  1.71590909 -0.80522727  0.88522727]\n",
            "Loop3\n",
            "[ 0.93263636  2.05330579 -1.04934091  1.13088068]\n",
            "Loop4\n",
            "[ 1.01519876  1.95369576 -0.96810863  0.97384272]\n",
            "Loop5\n",
            "[ 0.9889913   2.01141473 -1.0102859   1.02135051]\n",
            "Loop6\n",
            "[ 1.00319865  1.99224126 -0.99452174  0.99443374]\n",
            "Loop7\n",
            "[ 0.99812847  2.00230688 -1.00197223  1.00359431]\n",
            "Loop8\n",
            "[ 1.00062513  1.9986703  -0.99903558  0.99888839]\n",
            "Loop9\n",
            "[ 0.99967415  2.00044767 -1.00036916  1.00061919]\n",
            "Loop10\n",
            "[ 1.0001186   1.99976795 -0.99982814  0.99978598]\n",
            "Results:[ 1.0001186   1.99976795 -0.99982814  0.99978598]\n"
          ],
          "name": "stdout"
        }
      ]
    },
    {
      "cell_type": "markdown",
      "metadata": {
        "id": "QMpPhCZidWD3",
        "colab_type": "text"
      },
      "source": [
        "Gauss-Seidel"
      ]
    },
    {
      "cell_type": "code",
      "metadata": {
        "id": "LxZ_klqadWUg",
        "colab_type": "code",
        "colab": {}
      },
      "source": [
        "# Gauss-Seidel\n",
        "def seidel(a, x ,b): \t \n",
        "\tn = len(a)\t\t\t\t \n",
        "\t# for loop for 4 times as to calculate a,b,c,d \n",
        "\tfor j in range(0, n):\t\t \n",
        "\t\t# temp variable d to store b[j] \n",
        "\t\td = b[j]\t\t\t\t \n",
        "\t\t\n",
        "\t\t# to calculate respective ai, bi, ci, di \n",
        "\t\tfor i in range(0, n):\t \n",
        "\t\t\tif(j != i): \n",
        "\t\t\t\td-=a[j][i] * x[i] \n",
        "\t\t# updating the value of our solution\t\t \n",
        "\t\tx[j] = d / a[j][j] \n",
        "\t \n",
        "\treturn x\t \n",
        "\n"
      ],
      "execution_count": null,
      "outputs": []
    },
    {
      "cell_type": "code",
      "metadata": {
        "id": "4QEoYXt6kHAw",
        "colab_type": "code",
        "colab": {
          "base_uri": "https://localhost:8080/",
          "height": 417
        },
        "outputId": "e107d3f1-9fa1-46c0-c9fb-cd730877aee7"
      },
      "source": [
        "\t\t \n",
        "# initial solution\t\t\t\t \n",
        "x = [0, 0, 0, 0]\t\t\t\n",
        "#x=np.zeroes(4)\n",
        "a=[[10, -1, 2, 0],[-1, 11, -1, 3],[2, -1, 10, -1],[0, 3, -1, 8]]\n",
        "b = [6,25,-11,15] \n",
        "print(x) \n",
        "\n",
        "#loop run for m times depending on m the error value \n",
        "for i in range(0, 10):\n",
        "  print(\"Loop \"+ str(i+1))\n",
        "  x = seidel(a, x, b) \n",
        "\t#print each time the updated solution\n",
        "  print(x)\t\t\t\t\t \n",
        "line = \"Result:\\t\"\n",
        "print(line + str(x))"
      ],
      "execution_count": 28,
      "outputs": [
        {
          "output_type": "stream",
          "text": [
            "[0, 0, 0, 0]\n",
            "Loop 1\n",
            "[0.6, 2.3272727272727276, -0.9872727272727271, 0.8788636363636363]\n",
            "Loop 2\n",
            "[1.0301818181818183, 2.0369380165289255, -1.0144561983471074, 0.9843412190082644]\n",
            "Loop 3\n",
            "[1.006585041322314, 2.003555016904583, -1.002527384673178, 0.9983509455766342]\n",
            "Loop 4\n",
            "[1.000860978625094, 2.000298250656547, -1.0003072761017007, 0.9998497464910823]\n",
            "Loop 5\n",
            "[1.000091280285995, 2.000021342246459, -1.0000311471834449, 0.9999881032596473]\n",
            "Loop 6\n",
            "[1.0000083636613348, 2.0000011733362677, -1.0000027450726754, 0.9999992168648151]\n",
            "Loop 7\n",
            "[1.0000006663481618, 2.0000000246073673, -1.000000209122414, 0.9999999646319355]\n",
            "Loop 8\n",
            "[1.0000000442852195, 1.999999994660636, -1.0000000129277866, 1.0000000003862881]\n",
            "Loop 9\n",
            "[1.0000000020516209, 1.9999999989059065, -1.0000000004811047, 1.000000000350147]\n",
            "Loop 10\n",
            "[0.9999999999868117, 1.9999999998595697, -0.9999999999763907, 1.0000000000556126]\n",
            "Result:\t[0.9999999999868117, 1.9999999998595697, -0.9999999999763907, 1.0000000000556126]\n"
          ],
          "name": "stdout"
        }
      ]
    }
  ]
}